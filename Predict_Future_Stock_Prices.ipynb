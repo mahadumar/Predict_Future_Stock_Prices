{
 "cells": [
  {
   "cell_type": "code",
   "execution_count": 14,
   "id": "bf00d98f-c277-4b7f-a8fe-6b0f0f6c1c99",
   "metadata": {},
   "outputs": [
    {
     "name": "stderr",
     "output_type": "stream",
     "text": [
      "C:\\Users\\PC\\AppData\\Local\\Temp\\ipykernel_21388\\2725262417.py:6: FutureWarning: YF.download() has changed argument auto_adjust default to True\n",
      "  data = yf.download('AAPL', period='6mo')\n",
      "[*********************100%***********************]  1 of 1 completed"
     ]
    },
    {
     "name": "stdout",
     "output_type": "stream",
     "text": [
      "First 5 rows of data:\n",
      "Price            Close        High         Low        Open     Volume\n",
      "Ticker            AAPL        AAPL        AAPL        AAPL       AAPL\n",
      "Date                                                                 \n",
      "2025-01-27  229.306839  231.591321  223.440984  223.480897   94863400\n",
      "2025-01-28  237.686630  239.611994  230.254561  230.294474   75707600\n",
      "2025-01-29  238.783997  239.282793  233.446865  233.556601   45486100\n",
      "2025-01-30  237.018234  240.210530  236.639159  238.095637   55658300\n",
      "2025-01-31  235.432083  246.595158  232.878246  246.595158  100959800\n",
      "\n",
      "Dataset Info:\n",
      "<class 'pandas.core.frame.DataFrame'>\n",
      "DatetimeIndex: 125 entries, 2025-01-27 to 2025-07-25\n",
      "Data columns (total 5 columns):\n",
      " #   Column          Non-Null Count  Dtype  \n",
      "---  ------          --------------  -----  \n",
      " 0   (Close, AAPL)   125 non-null    float64\n",
      " 1   (High, AAPL)    125 non-null    float64\n",
      " 2   (Low, AAPL)     125 non-null    float64\n",
      " 3   (Open, AAPL)    125 non-null    float64\n",
      " 4   (Volume, AAPL)  125 non-null    int64  \n",
      "dtypes: float64(4), int64(1)\n",
      "memory usage: 5.9 KB\n",
      "None\n",
      "                 Close        High         Low        Open     Volume  \\\n",
      "Date                                                                    \n",
      "2025-01-27  229.306839  231.591321  223.440984  223.480897   94863400   \n",
      "2025-01-28  237.686630  239.611994  230.254561  230.294474   75707600   \n",
      "2025-01-29  238.783997  239.282793  233.446865  233.556601   45486100   \n",
      "2025-01-30  237.018234  240.210530  236.639159  238.095637   55658300   \n",
      "2025-01-31  235.432083  246.595158  232.878246  246.595158  100959800   \n",
      "\n",
      "            Next_Close  \n",
      "Date                    \n",
      "2025-01-27  237.686630  \n",
      "2025-01-28  238.783997  \n",
      "2025-01-29  237.018234  \n",
      "2025-01-30  235.432083  \n",
      "2025-01-31  227.461304  \n",
      "Mean Squared Error: 31.17\n"
     ]
    },
    {
     "name": "stderr",
     "output_type": "stream",
     "text": [
      "\n"
     ]
    }
   ],
   "source": [
    "import yfinance as yf\n",
    "import pandas as pd\n",
    "import numpy as np\n",
    "\n",
    "#download historical stock data for Apple (last 6 months)\n",
    "data = yf.download('AAPL', period='6mo')\n",
    "\n",
    "#show the first few rows\n",
    "print(\"First 5 rows of data:\")\n",
    "print(data.head())\n",
    "\n",
    "#basic info about the dataset\n",
    "print(\"\\nDataset Info:\")\n",
    "print(data.info())\n",
    "\n",
    "#flatten multi-level column names (e.g., ('Close', 'AAPL') → 'Close')\n",
    "data.columns = [col[0] for col in data.columns]\n",
    "\n",
    "#create a new column for next day Close (our prediction target)\n",
    "data['Next_Close'] = data['Close'].shift(-1)\n",
    "\n",
    "#drop the last row (it has no Next_Close value)\n",
    "data = data.dropna()\n",
    "\n",
    "#show updated data\n",
    "print(data.head())\n",
    "\n",
    "from sklearn.model_selection import train_test_split\n",
    "\n",
    "#define features and target\n",
    "X = data[['Open', 'High', 'Low', 'Volume']]\n",
    "y = data['Next_Close']\n",
    "\n",
    "#split into training and testing sets (80% train, 20% test)\n",
    "X_train, X_test, y_train, y_test = train_test_split(X, y, test_size=0.2, random_state=42)\n",
    "\n",
    "from sklearn.linear_model import LinearRegression\n",
    "from sklearn.metrics import mean_squared_error\n",
    "\n",
    "#train model\n",
    "model = LinearRegression()\n",
    "model.fit(X_train, y_train)\n",
    "\n",
    "#predict on test data\n",
    "y_pred = model.predict(X_test)\n",
    "\n",
    "#pvaluate\n",
    "mse = mean_squared_error(y_test, y_pred)\n",
    "print(f\"Mean Squared Error: {mse:.2f}\")\n"
   ]
  },
  {
   "cell_type": "code",
   "execution_count": null,
   "id": "2959dcc7-2c15-40cd-88ae-4fdfb9c403bf",
   "metadata": {},
   "outputs": [],
   "source": []
  }
 ],
 "metadata": {
  "kernelspec": {
   "display_name": "Python 3 (ipykernel)",
   "language": "python",
   "name": "python3"
  },
  "language_info": {
   "codemirror_mode": {
    "name": "ipython",
    "version": 3
   },
   "file_extension": ".py",
   "mimetype": "text/x-python",
   "name": "python",
   "nbconvert_exporter": "python",
   "pygments_lexer": "ipython3",
   "version": "3.10.11"
  }
 },
 "nbformat": 4,
 "nbformat_minor": 5
}
